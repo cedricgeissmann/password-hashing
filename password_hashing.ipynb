{
  "cells": [
    {
      "cell_type": "markdown",
      "metadata": {
        "id": "jchRINbkF8BL"
      },
      "source": [
        "# Anmeldung bei einem Webservice simulieren\n",
        "\n",
        "Wir simulieren hier das anmelden bei einem Webservice. Damit wir uns mit einem Passwort anmelden können, muss der Webservice die Benutzernamen und die Passwörter zusammen speichern. Die sind in einer Datenbank auf dem Server gespeichert, auch diese wird hier simuliert.\n",
        "\n",
        "# Aufgabe 1\n",
        "\n",
        "Im nächsten Block sehen Sie einen haufen Code. Dieser Code stellt uns die Funktionen zur Verfügung die wir für das Aufgabenblatt benötigen. Wenn Sie einen solchen **Code-Block** ausführen möchten, klicken Sie ihn einfach an und drücken **CTRL-Enter**.\n",
        "\n",
        "Oder Wenn Sie mit der MAus über den **Code-Block** fahren, sehen Sie oben links eine **Play-Taste**. Sie können auch diese drücken um einen Block auszuführen.\n",
        "\n",
        "> **Aufgabe:**   \n",
        "> Führen Sie den ersten **Code-Block** aus.  \n",
        "> Nach der Ausführung sollte unterhalb der Zelle der folgende Text stehen: *Zelle erfolgreich ausgeführt!*.\n"
      ]
    },
    {
      "cell_type": "code",
      "execution_count": null,
      "metadata": {
        "colab": {
          "base_uri": "https://localhost:8080/",
          "height": 34
        },
        "id": "iFs4Yp-EkeQr",
        "outputId": "cb36aeba-7aa6-48d9-ddfa-7d430c0f2a52"
      },
      "outputs": [],
      "source": [
        "import hashlib\n",
        "\n",
        "\n",
        "def md5(input, silent=False):\n",
        "  s = bytes(input, 'utf-8')\n",
        "  res = hashlib.md5(s)\n",
        "  res = res.hexdigest()\n",
        "  if not silent:\n",
        "    print(f'Der md5-Hash von \"{input}\" ist: {res}')\n",
        "  else:\n",
        "    return res\n",
        "\n",
        "\n",
        "pw_list = {\n",
        "    'test': 'password',\n",
        "    'admin': '1234'\n",
        "}\n",
        "\n",
        "pw_list_hashed = {\n",
        "    'test': md5('password', True),\n",
        "    'admin': md5('1234', True)\n",
        "}\n",
        "\n",
        "rb_table = {\n",
        "    md5('password', True): 'password',\n",
        "    md5('1234', True): '1234'\n",
        "}\n",
        "\n",
        "\n",
        "def salted_hash(input, salt):\n",
        "  hash = md5(input + salt, True)\n",
        "  print(f'Der Hash-Wert von \"{input}\" mit dem Salz \"{salt}\" ist: {hash}')\n",
        "\n",
        "\n",
        "def auth(username, password, db=pw_list):\n",
        "  if username in db:\n",
        "    if db[username] == password:\n",
        "      print(f'Erfolgreich! Der Benutzer \"{username}\" hat sich erfolgreich mit dem Passwort \"{password}\" angemeldet.')\n",
        "    else:\n",
        "      print(f'Fehlgeschlagen! Das Passwort \"{password}\" für den Benutzer \"{username}\" ist falsch!!!')\n",
        "  else:\n",
        "    print(f'Fehlgeschlagen! Konnte den Benutzer \"{username}\" nicht in der Datenbank finden.')\n",
        "\n",
        "def auth_hashed(username, password):\n",
        "  auth(username, md5(password, True), pw_list_hashed)\n",
        "\n",
        "def dump():\n",
        "  print(pw_list)\n",
        "\n",
        "def dump_hashed():\n",
        "  print(pw_list_hashed)\n",
        "\n",
        "def lookup(input):\n",
        "  if input in rb_table:\n",
        "    print(f'Die Eingabe für den Hash-Wert \"{input}\" ist: \"{rb_table[input]}\"')\n",
        "  else:\n",
        "    print(f'Konnte keine Eingabe für den Hash-Wert \"{input}\" finden.')\n",
        "\n",
        "\n",
        "print(\"Zelle erfolgreich ausgeführt!\")"
      ]
    },
    {
      "cell_type": "markdown",
      "metadata": {
        "id": "2IEtn3pVM54u"
      },
      "source": [
        "# Bravo\n",
        "\n",
        "Sehr gut! Sie haben nun den Code geladen den wir brauchen um die Anmeldung an einem Webservice zu simulieren.\n",
        "\n",
        "# Aufgabe 2\n",
        "\n",
        "In der nächsten Zelle, finden Sie Code um den Anmeldevorgang zu simulieren.\n",
        "\n",
        "Sie können Code in den Zellen natürlich auch verändern. Klicken Sie dafür einfach in die Zelle und dann auf den Text den Sie gerne ändern möchten. Damit der Code weiterhin Funktionsfähig bleibt, ändern Sie bitte nur Text der **zwischen** Anführungszeichen steht.\n",
        "\n",
        "> In dieser Zelle ist das `'test'` und `'password'`.\n",
        "\n",
        "Sie können die Funktion `auth('benutzername', 'passwort')` benutzen um die Anmeldung am Webservice zu simulieren. Sie erhalten verschiedene Rückmeldungen, jenachdem ob die Anmeldung geklappt hat oder nicht.\n",
        "\n",
        "> **Aufgabe:**  \n",
        "> Versuchen Sie sich mit verschiedenen *Benutzernamen* und *Passwörtern* anzumelden.  \n",
        "> Es gibt nur 2 Benutzer auf dem System. Probieren Sie also nicht zu viel herum. Es geht nur darum sicherzustellen dass sich ein Benutzer mit dem richtigen Passwort anmelden kann, und sonst nicht.\n",
        "\n",
        "# Benutzer\n",
        "\n",
        "|Benutzername | Passwort|\n",
        "|---|---|\n",
        "|admin|1234|\n",
        "|test|password|\n",
        "\n"
      ]
    },
    {
      "cell_type": "code",
      "execution_count": null,
      "metadata": {
        "colab": {
          "base_uri": "https://localhost:8080/",
          "height": 34
        },
        "id": "1X7JuLX7Bnl2",
        "outputId": "11a8594d-1a20-48aa-b099-6e9b99296efc"
      },
      "outputs": [],
      "source": [
        "auth('test', 'password')"
      ]
    },
    {
      "cell_type": "markdown",
      "metadata": {
        "id": "_1IUXBRxjALw"
      },
      "source": [
        "# Super\n",
        "\n",
        "Gut gemacht! Sie haben jetzt gesehen wie Sie sich bei einem Webservice mit einem *Benutzernamen* und *Passwort* anmelden können.\n",
        "\n",
        "# Achtung!!!\n",
        "\n",
        "Diese Methode hat einen gewaltigen Nachteil. Sie sehen dass Ihr *Passwort* in Klartext auf dem Server gespeichert wurde. Sollte also ein Angreifer Zugriff auf den Server erhalten, kann er ihr *Passwort* und dass aller anderen Benutzer auslesen.\n",
        "\n",
        "In der nächsten Zelle, sehen Sie die Funktion `dump()`. Die gibt Ihnen aus was gerade in der Datenbank steht.\n",
        "\n",
        "> **Aufgabe:**  \n",
        "> Führen Sie die nächste Zelle aus.  \n",
        "> Die Ausgabe ist nicht in der schönsten Form, aber Sie können sehr leicht erkennen, welche *Benutzernamen* und welche dazugehörigen *Passwörter* auf dem Server gespeichert sind."
      ]
    },
    {
      "cell_type": "code",
      "execution_count": null,
      "metadata": {
        "colab": {
          "base_uri": "https://localhost:8080/",
          "height": 34
        },
        "id": "F94pGxqplvmf",
        "outputId": "4db4ff9f-0a4b-43b6-ac28-99b54c47245f"
      },
      "outputs": [],
      "source": [
        "dump()"
      ]
    },
    {
      "cell_type": "markdown",
      "metadata": {
        "id": "pn8qswXfRzZJ"
      },
      "source": [
        "# Passwörter verbergen\n",
        "\n",
        "Damit *Passwörter* nicht in Klartext gespeichert werden müssen, können wir sie einer sogenanten **Hash-Funktion** übergeben.\n",
        "\n",
        "# Hash-Funktion\n",
        "\n",
        "Eine **Hash-Funktion** nimmt eine Eingabe von beliebiger Länge und wandelt diese in eine Ausgabe von fixer Länge um und hat die weiteren Eigenschaften:\n",
        " \n",
        " - Gleiche Eingabe erzeugt **immer** die gleiche Ausgabe.\n",
        " - Bereits kleine Änderungen erzeugen eine komplet andere Ausgabe.\n",
        " - Ist **nicht** umkehrbar.\n",
        " - Verschiedene Eingaben haben nicht die gleichen Ausgaben.\n",
        "\n",
        "Wir schauen uns als Beispiel für eine **Hash-Funktion** die Funktion `md5()` an. Dafür steht Ihnen in der nächsten Zelle die Funktion `md5('passwort')` zur Verfügung. Die Funktion nimmt die EIngabe entgegen und sagt Ihnen was der **Hash-Wert** dieser Eingabe ist.\n",
        "\n",
        "> **Aufgabe:**  \n",
        "> Überprüfen Sie dass die ersten beiden Eigenschaften einer **Hash-Funktion** erfüllt sind, und dass alle Ausgaben die gleiche Länge haben.  \n",
        "> Dazu können Sie die Eingabe in der nächsten Zelle immer wieder ändern und ausführen, oder Sie Kopieren die Zeile und führen gleich mehrere Berechnungen in einer Zelle aus."
      ]
    },
    {
      "cell_type": "code",
      "execution_count": null,
      "metadata": {
        "colab": {
          "base_uri": "https://localhost:8080/",
          "height": 34
        },
        "id": "uLJxhxG-UsrD",
        "outputId": "bfa6f975-6605-4d38-d9a9-bbd5420aaeed"
      },
      "outputs": [],
      "source": [
        "md5('passwort')"
      ]
    },
    {
      "cell_type": "markdown",
      "metadata": {
        "id": "2KN52b_TWH_n"
      },
      "source": [
        "# Toll\n",
        "\n",
        "Sehr gut gemacht! Wir haben nun eine Funktion gefunden, mit der wir Text für uns unleserlich machen können. Damit können wir nun *Passwörter* so abspeichern, dass sie nicht direkt ausgelesen werden können.\n",
        "\n",
        "# Passwörter prüfen\n",
        "\n",
        "Jetzt wo wir die *Passwörter* nicht mehr lesen können, wie können wir nun sicher sein das sich ein Benutzer mit dem richtigen *Passwort* angemeldet hat?\n",
        "\n",
        "Das ist dank der Eigenschaften der **Hash-Funktion** zum Glück sehr einfach. Wir erinnern uns, das eine **Hash-Funktion** die gleiche Eingabe immer auf die gleiche Ausgabe umwandeln muss. Wir können also den **Hash-Wert** in der Datenbank speichern, und dann das *Passwort*, das wir erhalten, durch die **Hash-Funktion** geben, und dann die beiden vergleichen.\n",
        "\n",
        "In der nächsten Zelle finden Sie die Funktion `auth_hashed()`. Auch dieser Funktion können Sie 2 Eingaben geben, und sie wird versuchen Sie einzuloggen.\n",
        "\n",
        "> **Aufgabe:**  \n",
        "> Versuchen Sie sich mit der neuen Funktion `auth_hashed()` mit den gleichen Daten wie zuvor einzuloggen. Was fällt Ihnen auf?"
      ]
    },
    {
      "cell_type": "code",
      "execution_count": null,
      "metadata": {
        "colab": {
          "base_uri": "https://localhost:8080/",
          "height": 34
        },
        "id": "ry7oiQlBZDzL",
        "outputId": "70478c08-3f39-4413-9f1a-a259956f096d"
      },
      "outputs": [],
      "source": [
        "auth_hashed('test', 'password')"
      ]
    },
    {
      "cell_type": "markdown",
      "metadata": {
        "id": "JYuRHpqDbOGL"
      },
      "source": [
        "# Wundervoll\n",
        "\n",
        "Einfach toll wie Sie das machen. Sie haben sich jetzt bei einem Webservice mit einem gehashten *Passwort* angemeldet.\n",
        "\n",
        "# Ist das wirklich sicher?\n",
        "\n",
        "Wie sicher ist das ganze denn in Wirklichkeit? Gibt es wirklich keinen Weg wie ich vom **Hash-Wert** zum Passwort komme?\n",
        "\n",
        "Die Eigenschaften einer **Hash-Funktion** macht es mathematisch Unmöglich die Umkehrfunktion zu berechnen. Wenn ich aber bereits weiss welche Eingabe in welchen **Hash-Wert** umgewandelt wird, kann ich mir das einfach merken und den **Hash-Wert** dann einfach in einer Tabelle nachschauen. Solche Tabellen nennt man auch **Rainbow-Tables**.\n",
        "\n",
        "# Rainbow Tables\n",
        "\n",
        "**Rainbow-Tables** sind Tabellen in denen die **Hash-Werte** für bekannte Eingaben gespeichert werden. Damit kann mit einem einfachen Nachschlagen die Eingabe bestimmt werden, die zu einem **Hash-Wert** gehört.\n",
        "\n",
        "In der nächsten Zelle finden sie die Funktion `lookup('hashwert')` mit der Sie die Eingabe von bestimmten **Hash-Werten** bestimmen können.\n",
        "\n",
        "> **Aufgabe:**  \n",
        "> Bestimmen Sie die *Passwörter* für alle **Hash-Werte** die Ihnen die Funktion `dump_hashed()` liefert."
      ]
    },
    {
      "cell_type": "code",
      "execution_count": null,
      "metadata": {
        "colab": {
          "base_uri": "https://localhost:8080/",
          "height": 34
        },
        "id": "2geJfJwAeu87",
        "outputId": "4000acde-016e-4cd9-d3eb-958ee54e84e4"
      },
      "outputs": [],
      "source": [
        "dump_hashed()"
      ]
    },
    {
      "cell_type": "code",
      "execution_count": null,
      "metadata": {
        "colab": {
          "base_uri": "https://localhost:8080/",
          "height": 34
        },
        "id": "BdPOZ-ATfA3L",
        "outputId": "71075fff-d9f3-44d4-d17a-c94724418587"
      },
      "outputs": [],
      "source": [
        "lookup('5f4dcc3b5aa765d61d8327deb882cf99')"
      ]
    },
    {
      "cell_type": "markdown",
      "metadata": {
        "id": "_gAW3pAYgl6g"
      },
      "source": [
        "# Schade\n",
        "\n",
        "Wenn es so einfach ist für Angreifer, die Passwörter zu entschlüsseln, bingt das doch alles nichts.\n",
        "\n",
        "# Salted Hashes\n",
        "\n",
        "Wie wir bereits wissen, führt schon eine kleine Änderung in der Eingabe, zu einem komplett anderen **Hash-Wert**. Wir können diese Eigenschaft also ausnutzen um es Hackern schwer bis unmöglich zu machen, die **Rainbow-Tables** zu verwenden.\n",
        "\n",
        "Dafür verwenden wir eine Technik die sich *salzen* nennt. Das bedeutet, dass wir eine beliebige Zeichenkette an das *Passwort* hängen, und dann den **Hash-Wert** davon bestimmen. Diese Zeichenkette nennen wir Salz. Das Salz ist pro Benutzer verschieden, und wird für jeden Benutzer in der Datenbank gespeichert. Wir können also mit dem Salz und dem *Passwort* den **Hash-Wert** berechnen den wir in der Datenbank gespeichert haben.\n",
        "\n",
        "In der nächsten Zelle finden Sie die neue Funktion `salted_hash()`. Diese nimmt das *Passwort* und das Salz als Eingabe, und berechnet den **Hash-Wert** den beiden in Kombination. Die Funktion `md5()` kennen Sie bereits von weiter oben.\n",
        "\n",
        "> **Aufgabe:**  \n",
        "> Überprüfen Sie für verschiedene Werte für *Passwort* und Salz, dass die Funktion `salted_hash()` das gleiche berechnet wie `md5()` von der zusammengesetzten Eingabe.  \n",
        "> Überprüfen Sie ausserdem, dass die **Hash-Werte** nicht übereinstimmen, wenn Sie den Salz bei der `md5()` Funktion weglassen."
      ]
    },
    {
      "cell_type": "code",
      "execution_count": null,
      "metadata": {
        "colab": {
          "base_uri": "https://localhost:8080/",
          "height": 51
        },
        "id": "sl_NFpMGlQyw",
        "outputId": "82005b9f-06c2-4d42-988c-3f4eb4d58f9a"
      },
      "outputs": [],
      "source": [
        "salted_hash('passwort', 'abcd')\n",
        "md5('passwortabcd')"
      ]
    },
    {
      "cell_type": "markdown",
      "metadata": {
        "id": "tbqs4ceMpPZt"
      },
      "source": [
        "# Hurra\n",
        "\n",
        "Toll! Nun kenne wir eine kompliziertere Version wie ich das Passwort hashen kann.\n",
        "\n",
        "Ich habe aber immer noch den Hash, den ich in einer **Rainbow-Table** nachschauen kann, und dann habe ich auch den Salz den ich einfach vom erhalteten Wort abziehe, um das eigentliche Passwort zu erhalten. Bin ich jetzt also gleich weit wie zuvor?\n",
        "\n",
        "> **Aufgabe:**  \n",
        "> Überlegen Sie sich, wie man das Salz so wählen kann, dass die Methode sicher ist."
      ]
    }
  ],
  "metadata": {
    "colab": {
      "collapsed_sections": [],
      "name": "Copy of password_hashing.ipynb",
      "provenance": []
    },
    "kernelspec": {
      "display_name": "Python 3",
      "name": "python3"
    },
    "language_info": {
      "codemirror_mode": {
        "name": "ipython",
        "version": 3
      },
      "file_extension": ".py",
      "mimetype": "text/x-python",
      "name": "python",
      "nbconvert_exporter": "python",
      "pygments_lexer": "ipython3",
      "version": "3.10.13"
    }
  },
  "nbformat": 4,
  "nbformat_minor": 0
}
