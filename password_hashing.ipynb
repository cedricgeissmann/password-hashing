{
  "nbformat": 4,
  "nbformat_minor": 0,
  "metadata": {
    "colab": {
      "name": "password_hashing.ipynb",
      "provenance": [],
      "collapsed_sections": [],
      "authorship_tag": "ABX9TyN1oMBQJZFUDEQFdG1ykITb",
      "include_colab_link": true
    },
    "kernelspec": {
      "name": "python3",
      "display_name": "Python 3"
    }
  },
  "cells": [
    {
      "cell_type": "markdown",
      "metadata": {
        "id": "view-in-github",
        "colab_type": "text"
      },
      "source": [
        "<a href=\"https://colab.research.google.com/github/cedricgeissmann/password-hashing/blob/main/password_hashing.ipynb\" target=\"_parent\"><img src=\"https://colab.research.google.com/assets/colab-badge.svg\" alt=\"Open In Colab\"/></a>"
      ]
    },
    {
      "cell_type": "markdown",
      "metadata": {
        "id": "jchRINbkF8BL"
      },
      "source": [
        "# Anmeldung bei einem Webservice simulieren\n",
        "\n",
        "Wir simulieren hier das anmelden bei einem Webservice. Damit wir uns mit einem Passwort anmelden können, muss der Webservice die Benutzernamen und die Passwörter zusammen speichern. Die sind in einer Datenbank auf dem Server gespeichert, auch diese wird hier simuliert.\n",
        "\n",
        "# Aufgabe 1\n",
        "\n",
        "Im nächsten Block sehen Sie einen haufen Code. Dieser Code stellt uns die Funktionen zur Verfügung die wir für das Aufgabenblatt benötigen. Wenn Sie einen solchen **Code-Block** ausführen möchten, klicken Sie ihn einfach an und drücken **CTRL-Enter**.\n",
        "\n",
        "Oder Wenn Sie mit der MAus über den **Code-Block** fahren, sehen Sie oben links eine **Play-Taste**. Sie können auch diese drücken um einen Block auszuführen.\n",
        "\n",
        "> **Aufgabe:**   \n",
        "> Führen Sie den ersten **Code-Block** aus.  \n",
        "> Nach der Ausführung sollte unterhalb der Zelle der folgende Text stehen: *Zelle erfolgreich ausgeführt!*.\n"
      ]
    },
    {
      "cell_type": "code",
      "metadata": {
        "id": "iFs4Yp-EkeQr",
        "outputId": "869fc825-9ade-4629-b5b5-1da0c9d080c5",
        "colab": {
          "base_uri": "https://localhost:8080/",
          "height": 34
        }
      },
      "source": [
        "import hashlib\n",
        "\n",
        "\n",
        "def hash(input):\n",
        "  s = bytes(input, 'utf-8')\n",
        "  res = hashlib.md5(s)\n",
        "  res = res.hexdigest()\n",
        "  print(f'Der md5-Hash von \"{input}\" ist: {res}')\n",
        "\n",
        "\n",
        "def auth(username, password):\n",
        "  if username in pw_list:\n",
        "    if pw_list[username] == password:\n",
        "      print(f'Erfolgreich! Der Benutzer \"{username}\" hat sich erfolgreich mit dem Passwort \"{password}\" andgemeldet.')\n",
        "    else:\n",
        "      print(f'Fehlgeschlagen! Das Passwort \"{password}\" für den Benutzer \"{username}\" ist falsch!!!')\n",
        "  else:\n",
        "    print(f'Fehlgeschlagen! Konnte den Benutzer \"{username}\" nicht in der Datenbank finden.')\n",
        "\n",
        "\n",
        "pw_list = {\n",
        "    'test': 'password',\n",
        "    'admin': '1234'\n",
        "}\n",
        "\n",
        "print(\"Zelle erfolgreich ausgeführt!\")"
      ],
      "execution_count": null,
      "outputs": [
        {
          "output_type": "stream",
          "text": [
            "Zelle erfolgreich ausgeführt!\n"
          ],
          "name": "stdout"
        }
      ]
    },
    {
      "cell_type": "markdown",
      "metadata": {
        "id": "2IEtn3pVM54u"
      },
      "source": [
        "# Bravo\n",
        "\n",
        "Sehr gut! Sie haben nun den Code geladen den wir brauchen um die Anmeldung an einem Webservice zu simulieren.\n",
        "\n",
        "# Aufgabe 2\n",
        "\n",
        "In der nächsten Zelle, finden Sie Code um den Anmeldevorgang zu simulieren.\n",
        "\n",
        "Sie können Code in den Zellen natürlich auch verändern. Klicken Sie dafür einfach in die Zelle und dann auf den Text den Sie gerne ändern möchten. Damit der Code weiterhin Funktionsfähig bleibt, ändern Sie bitte nur Text der **zwischen** Anführungszeichen steht.\n",
        "\n",
        "> In dieser Zelle ist das `'test'` und `'password'`.\n",
        "\n",
        "Sie können die Funktion `auth('benutzername', 'passwort')` benutzen um die Anmeldung am Webservice zu simulieren. Sie erhalten verschiedene Rückmeldungen, jenachdem ob die Anmeldung geklappt hat oder nicht.\n",
        "\n",
        "> **Aufgabe:**  \n",
        "> Versuchen Sie sich mit verschiedenen *Benutzernamen* und *Passwörtern* anzumelden.  \n",
        "> Es gibt nur 2 Benutzer auf dem System. Probieren Sie also nicht zu viel herum. Es geht nur darum sicherzustellen dass sich ein Benutzer mit dem richtigen Passwort anmelden kann, und sonst nicht.\n",
        "\n",
        "# Benutzer\n",
        "\n",
        "|Benutzername | Passwort|\n",
        "|---|---|\n",
        "|admin|1234|\n",
        "|test|password|\n",
        "\n"
      ]
    },
    {
      "cell_type": "code",
      "metadata": {
        "id": "1X7JuLX7Bnl2",
        "outputId": "0cdaac9e-eaf1-4ec5-f1a7-d19f2eae0f4f",
        "colab": {
          "base_uri": "https://localhost:8080/",
          "height": 34
        }
      },
      "source": [
        "auth('test', 'password')"
      ],
      "execution_count": null,
      "outputs": [
        {
          "output_type": "stream",
          "text": [
            "Erfolgreich! Der Benutzer \"test\" hat sich erfolgreich mit dem Passwort \"password\" andgemeldet.\n"
          ],
          "name": "stdout"
        }
      ]
    },
    {
      "cell_type": "markdown",
      "metadata": {
        "id": "_1IUXBRxjALw"
      },
      "source": [
        ""
      ]
    },
    {
      "cell_type": "code",
      "metadata": {
        "id": "F94pGxqplvmf",
        "outputId": "b4296ea7-365c-4a69-bb3c-84f2254f0f0b",
        "colab": {
          "base_uri": "https://localhost:8080/",
          "height": 34
        }
      },
      "source": [
        "hash('test')"
      ],
      "execution_count": null,
      "outputs": [
        {
          "output_type": "stream",
          "text": [
            "Der md5-Hash von test ist: 098f6bcd4621d373cade4e832627b4f6\n"
          ],
          "name": "stdout"
        }
      ]
    }
  ]
}